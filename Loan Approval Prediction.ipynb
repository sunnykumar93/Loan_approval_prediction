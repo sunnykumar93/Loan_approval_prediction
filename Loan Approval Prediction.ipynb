{
 "cells": [
  {
   "cell_type": "code",
   "execution_count": 131,
   "id": "8255af55",
   "metadata": {},
   "outputs": [],
   "source": [
    "import pandas as pd\n",
    "import numpy as np\n",
    "import matplotlib.pyplot as plt\n",
    "import seaborn as sns"
   ]
  },
  {
   "cell_type": "code",
   "execution_count": 132,
   "id": "ef779a74",
   "metadata": {},
   "outputs": [],
   "source": [
    "df=pd.read_csv(r\"C:\\Users\\Suri\\Downloads\\credit_risk_dataset.csv\")"
   ]
  },
  {
   "cell_type": "code",
   "execution_count": 133,
   "id": "c125c63c",
   "metadata": {},
   "outputs": [
    {
     "data": {
      "text/html": [
       "<div>\n",
       "<style scoped>\n",
       "    .dataframe tbody tr th:only-of-type {\n",
       "        vertical-align: middle;\n",
       "    }\n",
       "\n",
       "    .dataframe tbody tr th {\n",
       "        vertical-align: top;\n",
       "    }\n",
       "\n",
       "    .dataframe thead th {\n",
       "        text-align: right;\n",
       "    }\n",
       "</style>\n",
       "<table border=\"1\" class=\"dataframe\">\n",
       "  <thead>\n",
       "    <tr style=\"text-align: right;\">\n",
       "      <th></th>\n",
       "      <th>person_age</th>\n",
       "      <th>person_income</th>\n",
       "      <th>person_home_ownership</th>\n",
       "      <th>person_emp_length</th>\n",
       "      <th>loan_intent</th>\n",
       "      <th>loan_grade</th>\n",
       "      <th>loan_amnt</th>\n",
       "      <th>loan_int_rate</th>\n",
       "      <th>loan_status</th>\n",
       "      <th>loan_percent_income</th>\n",
       "      <th>cb_person_default_on_file</th>\n",
       "      <th>cb_person_cred_hist_length</th>\n",
       "    </tr>\n",
       "  </thead>\n",
       "  <tbody>\n",
       "    <tr>\n",
       "      <th>0</th>\n",
       "      <td>22</td>\n",
       "      <td>59000</td>\n",
       "      <td>RENT</td>\n",
       "      <td>123.0</td>\n",
       "      <td>PERSONAL</td>\n",
       "      <td>D</td>\n",
       "      <td>35000</td>\n",
       "      <td>16.02</td>\n",
       "      <td>1</td>\n",
       "      <td>0.59</td>\n",
       "      <td>Y</td>\n",
       "      <td>3</td>\n",
       "    </tr>\n",
       "    <tr>\n",
       "      <th>1</th>\n",
       "      <td>21</td>\n",
       "      <td>9600</td>\n",
       "      <td>OWN</td>\n",
       "      <td>5.0</td>\n",
       "      <td>EDUCATION</td>\n",
       "      <td>B</td>\n",
       "      <td>1000</td>\n",
       "      <td>11.14</td>\n",
       "      <td>0</td>\n",
       "      <td>0.10</td>\n",
       "      <td>N</td>\n",
       "      <td>2</td>\n",
       "    </tr>\n",
       "    <tr>\n",
       "      <th>2</th>\n",
       "      <td>25</td>\n",
       "      <td>9600</td>\n",
       "      <td>MORTGAGE</td>\n",
       "      <td>1.0</td>\n",
       "      <td>MEDICAL</td>\n",
       "      <td>C</td>\n",
       "      <td>5500</td>\n",
       "      <td>12.87</td>\n",
       "      <td>1</td>\n",
       "      <td>0.57</td>\n",
       "      <td>N</td>\n",
       "      <td>3</td>\n",
       "    </tr>\n",
       "    <tr>\n",
       "      <th>3</th>\n",
       "      <td>23</td>\n",
       "      <td>65500</td>\n",
       "      <td>RENT</td>\n",
       "      <td>4.0</td>\n",
       "      <td>MEDICAL</td>\n",
       "      <td>C</td>\n",
       "      <td>35000</td>\n",
       "      <td>15.23</td>\n",
       "      <td>1</td>\n",
       "      <td>0.53</td>\n",
       "      <td>N</td>\n",
       "      <td>2</td>\n",
       "    </tr>\n",
       "    <tr>\n",
       "      <th>4</th>\n",
       "      <td>24</td>\n",
       "      <td>54400</td>\n",
       "      <td>RENT</td>\n",
       "      <td>8.0</td>\n",
       "      <td>MEDICAL</td>\n",
       "      <td>C</td>\n",
       "      <td>35000</td>\n",
       "      <td>14.27</td>\n",
       "      <td>1</td>\n",
       "      <td>0.55</td>\n",
       "      <td>Y</td>\n",
       "      <td>4</td>\n",
       "    </tr>\n",
       "  </tbody>\n",
       "</table>\n",
       "</div>"
      ],
      "text/plain": [
       "   person_age  person_income person_home_ownership  person_emp_length  \\\n",
       "0          22          59000                  RENT              123.0   \n",
       "1          21           9600                   OWN                5.0   \n",
       "2          25           9600              MORTGAGE                1.0   \n",
       "3          23          65500                  RENT                4.0   \n",
       "4          24          54400                  RENT                8.0   \n",
       "\n",
       "  loan_intent loan_grade  loan_amnt  loan_int_rate  loan_status  \\\n",
       "0    PERSONAL          D      35000          16.02            1   \n",
       "1   EDUCATION          B       1000          11.14            0   \n",
       "2     MEDICAL          C       5500          12.87            1   \n",
       "3     MEDICAL          C      35000          15.23            1   \n",
       "4     MEDICAL          C      35000          14.27            1   \n",
       "\n",
       "   loan_percent_income cb_person_default_on_file  cb_person_cred_hist_length  \n",
       "0                 0.59                         Y                           3  \n",
       "1                 0.10                         N                           2  \n",
       "2                 0.57                         N                           3  \n",
       "3                 0.53                         N                           2  \n",
       "4                 0.55                         Y                           4  "
      ]
     },
     "execution_count": 133,
     "metadata": {},
     "output_type": "execute_result"
    }
   ],
   "source": [
    "df.head()"
   ]
  },
  {
   "cell_type": "code",
   "execution_count": 134,
   "id": "383dff55",
   "metadata": {},
   "outputs": [
    {
     "data": {
      "text/plain": [
       "person_age                       0\n",
       "person_income                    0\n",
       "person_home_ownership            0\n",
       "person_emp_length              895\n",
       "loan_intent                      0\n",
       "loan_grade                       0\n",
       "loan_amnt                        0\n",
       "loan_int_rate                 3116\n",
       "loan_status                      0\n",
       "loan_percent_income              0\n",
       "cb_person_default_on_file        0\n",
       "cb_person_cred_hist_length       0\n",
       "dtype: int64"
      ]
     },
     "execution_count": 134,
     "metadata": {},
     "output_type": "execute_result"
    }
   ],
   "source": [
    "df.isnull().sum()"
   ]
  },
  {
   "cell_type": "code",
   "execution_count": 135,
   "id": "b8e11a21",
   "metadata": {},
   "outputs": [
    {
     "data": {
      "text/plain": [
       "(32581, 12)"
      ]
     },
     "execution_count": 135,
     "metadata": {},
     "output_type": "execute_result"
    }
   ],
   "source": [
    "df.shape"
   ]
  },
  {
   "cell_type": "code",
   "execution_count": 136,
   "id": "f934064d",
   "metadata": {},
   "outputs": [
    {
     "data": {
      "text/plain": [
       "person_age                      int64\n",
       "person_income                   int64\n",
       "person_home_ownership          object\n",
       "person_emp_length             float64\n",
       "loan_intent                    object\n",
       "loan_grade                     object\n",
       "loan_amnt                       int64\n",
       "loan_int_rate                 float64\n",
       "loan_status                     int64\n",
       "loan_percent_income           float64\n",
       "cb_person_default_on_file      object\n",
       "cb_person_cred_hist_length      int64\n",
       "dtype: object"
      ]
     },
     "execution_count": 136,
     "metadata": {},
     "output_type": "execute_result"
    }
   ],
   "source": [
    "df.dtypes"
   ]
  },
  {
   "cell_type": "code",
   "execution_count": 137,
   "id": "b9801144",
   "metadata": {},
   "outputs": [],
   "source": [
    "df[\"person_emp_length\"].fillna(df[\"person_emp_length\"].median(),inplace=True)"
   ]
  },
  {
   "cell_type": "code",
   "execution_count": 138,
   "id": "c1f52fcc",
   "metadata": {},
   "outputs": [],
   "source": [
    "df[\"loan_int_rate\"].fillna(df[\"loan_int_rate\"].median(),inplace=True)"
   ]
  },
  {
   "cell_type": "code",
   "execution_count": 139,
   "id": "244464d6",
   "metadata": {},
   "outputs": [
    {
     "data": {
      "text/plain": [
       "person_age                    0\n",
       "person_income                 0\n",
       "person_home_ownership         0\n",
       "person_emp_length             0\n",
       "loan_intent                   0\n",
       "loan_grade                    0\n",
       "loan_amnt                     0\n",
       "loan_int_rate                 0\n",
       "loan_status                   0\n",
       "loan_percent_income           0\n",
       "cb_person_default_on_file     0\n",
       "cb_person_cred_hist_length    0\n",
       "dtype: int64"
      ]
     },
     "execution_count": 139,
     "metadata": {},
     "output_type": "execute_result"
    }
   ],
   "source": [
    "df.isnull().sum()"
   ]
  },
  {
   "cell_type": "code",
   "execution_count": 140,
   "id": "d7ce2241",
   "metadata": {},
   "outputs": [],
   "source": [
    "X=df.drop(columns=[\"loan_status\"])\n",
    "y=df[\"loan_status\"]"
   ]
  },
  {
   "cell_type": "code",
   "execution_count": 141,
   "id": "a8d7b46e",
   "metadata": {},
   "outputs": [],
   "source": [
    "from sklearn.model_selection import train_test_split\n",
    "\n",
    "X_train,X_test,y_train,y_test=train_test_split(X,y,test_size=0.25,random_state=1)"
   ]
  },
  {
   "cell_type": "code",
   "execution_count": 142,
   "id": "bf283c7b",
   "metadata": {},
   "outputs": [
    {
     "data": {
      "text/plain": [
       "(24435, 11)"
      ]
     },
     "execution_count": 142,
     "metadata": {},
     "output_type": "execute_result"
    }
   ],
   "source": [
    "X_train.shape"
   ]
  },
  {
   "cell_type": "code",
   "execution_count": 143,
   "id": "6896b642",
   "metadata": {},
   "outputs": [
    {
     "data": {
      "text/plain": [
       "(8146, 11)"
      ]
     },
     "execution_count": 143,
     "metadata": {},
     "output_type": "execute_result"
    }
   ],
   "source": [
    "X_test.shape"
   ]
  },
  {
   "cell_type": "code",
   "execution_count": 144,
   "id": "144eb76b",
   "metadata": {},
   "outputs": [
    {
     "data": {
      "text/plain": [
       "(24435,)"
      ]
     },
     "execution_count": 144,
     "metadata": {},
     "output_type": "execute_result"
    }
   ],
   "source": [
    "y_train.shape"
   ]
  },
  {
   "cell_type": "code",
   "execution_count": 145,
   "id": "3eed87cb",
   "metadata": {},
   "outputs": [
    {
     "data": {
      "text/plain": [
       "(8146,)"
      ]
     },
     "execution_count": 145,
     "metadata": {},
     "output_type": "execute_result"
    }
   ],
   "source": [
    "y_test.shape"
   ]
  },
  {
   "cell_type": "code",
   "execution_count": 146,
   "id": "087fdbca",
   "metadata": {},
   "outputs": [],
   "source": [
    "X_train_num=X_train.select_dtypes(include=[\"int64\",\"float64\"])"
   ]
  },
  {
   "cell_type": "code",
   "execution_count": 147,
   "id": "dfa0d025",
   "metadata": {},
   "outputs": [],
   "source": [
    "X_test_num=X_test.select_dtypes(include=[\"int64\",\"float64\"])"
   ]
  },
  {
   "cell_type": "code",
   "execution_count": 148,
   "id": "05d2ddf4",
   "metadata": {},
   "outputs": [
    {
     "data": {
      "image/png": "[encoded data removed]",
      "text/plain": [
       "<Figure size 1000x2200 with 7 Axes>"
      ]
     },
     "metadata": {},
     "output_type": "display_data"
    }
   ],
   "source": [
    "plt.figure(figsize=[10,22])\n",
    "for i in range(len(X_train_num.columns)):\n",
    "    plt.subplot(7,2,i+1)\n",
    "    sns.boxplot(x=X_train_num.columns[i],data=X_train_num)"
   ]
  },
  {
   "cell_type": "code",
   "execution_count": 149,
   "id": "f1e3e1ab",
   "metadata": {},
   "outputs": [],
   "source": [
    "from sklearn.preprocessing import StandardScaler"
   ]
  },
  {
   "cell_type": "code",
   "execution_count": 150,
   "id": "44469d7a",
   "metadata": {},
   "outputs": [],
   "source": [
    "scaler=StandardScaler()"
   ]
  },
  {
   "cell_type": "code",
   "execution_count": 151,
   "id": "38c5f527",
   "metadata": {},
   "outputs": [],
   "source": [
    "X_train_num=pd.DataFrame(scaler.fit_transform(X_train_num),columns=X_train_num.columns,index=X_train_num.index)"
   ]
  },
  {
   "cell_type": "code",
   "execution_count": 152,
   "id": "8cc5e86a",
   "metadata": {},
   "outputs": [
    {
     "data": {
      "text/html": [
       "<div>\n",
       "<style scoped>\n",
       "    .dataframe tbody tr th:only-of-type {\n",
       "        vertical-align: middle;\n",
       "    }\n",
       "\n",
       "    .dataframe tbody tr th {\n",
       "        vertical-align: top;\n",
       "    }\n",
       "\n",
       "    .dataframe thead th {\n",
       "        text-align: right;\n",
       "    }\n",
       "</style>\n",
       "<table border=\"1\" class=\"dataframe\">\n",
       "  <thead>\n",
       "    <tr style=\"text-align: right;\">\n",
       "      <th></th>\n",
       "      <th>person_age</th>\n",
       "      <th>person_income</th>\n",
       "      <th>person_emp_length</th>\n",
       "      <th>loan_amnt</th>\n",
       "      <th>loan_int_rate</th>\n",
       "      <th>loan_percent_income</th>\n",
       "      <th>cb_person_cred_hist_length</th>\n",
       "    </tr>\n",
       "  </thead>\n",
       "  <tbody>\n",
       "    <tr>\n",
       "      <th>6249</th>\n",
       "      <td>-0.438014</td>\n",
       "      <td>-0.332166</td>\n",
       "      <td>1.016328</td>\n",
       "      <td>-0.413057</td>\n",
       "      <td>0.350920</td>\n",
       "      <td>-0.193238</td>\n",
       "      <td>-0.943072</td>\n",
       "    </tr>\n",
       "    <tr>\n",
       "      <th>20127</th>\n",
       "      <td>0.198380</td>\n",
       "      <td>-0.508308</td>\n",
       "      <td>-0.191679</td>\n",
       "      <td>0.059620</td>\n",
       "      <td>-0.006135</td>\n",
       "      <td>0.832867</td>\n",
       "      <td>0.536682</td>\n",
       "    </tr>\n",
       "    <tr>\n",
       "      <th>20796</th>\n",
       "      <td>0.357478</td>\n",
       "      <td>-0.423907</td>\n",
       "      <td>-1.158085</td>\n",
       "      <td>-0.728175</td>\n",
       "      <td>-0.450831</td>\n",
       "      <td>-0.473085</td>\n",
       "      <td>0.783308</td>\n",
       "    </tr>\n",
       "    <tr>\n",
       "      <th>12524</th>\n",
       "      <td>-0.915309</td>\n",
       "      <td>0.291672</td>\n",
       "      <td>-0.433281</td>\n",
       "      <td>-0.208230</td>\n",
       "      <td>0.146425</td>\n",
       "      <td>-0.659649</td>\n",
       "      <td>-0.696446</td>\n",
       "    </tr>\n",
       "    <tr>\n",
       "      <th>30998</th>\n",
       "      <td>1.471167</td>\n",
       "      <td>-0.258773</td>\n",
       "      <td>3.915544</td>\n",
       "      <td>0.059620</td>\n",
       "      <td>0.227574</td>\n",
       "      <td>0.179891</td>\n",
       "      <td>2.016437</td>\n",
       "    </tr>\n",
       "    <tr>\n",
       "      <th>...</th>\n",
       "      <td>...</td>\n",
       "      <td>...</td>\n",
       "      <td>...</td>\n",
       "      <td>...</td>\n",
       "      <td>...</td>\n",
       "      <td>...</td>\n",
       "      <td>...</td>\n",
       "    </tr>\n",
       "    <tr>\n",
       "      <th>32511</th>\n",
       "      <td>4.175839</td>\n",
       "      <td>0.581573</td>\n",
       "      <td>1.499530</td>\n",
       "      <td>0.059620</td>\n",
       "      <td>0.720959</td>\n",
       "      <td>-0.659649</td>\n",
       "      <td>3.496191</td>\n",
       "    </tr>\n",
       "    <tr>\n",
       "      <th>5192</th>\n",
       "      <td>-0.756210</td>\n",
       "      <td>-0.405485</td>\n",
       "      <td>0.533125</td>\n",
       "      <td>1.162534</td>\n",
       "      <td>-1.424618</td>\n",
       "      <td>2.045537</td>\n",
       "      <td>-0.943072</td>\n",
       "    </tr>\n",
       "    <tr>\n",
       "      <th>12172</th>\n",
       "      <td>-0.756210</td>\n",
       "      <td>0.144887</td>\n",
       "      <td>0.049922</td>\n",
       "      <td>2.576627</td>\n",
       "      <td>-0.006135</td>\n",
       "      <td>1.672408</td>\n",
       "      <td>-0.943072</td>\n",
       "    </tr>\n",
       "    <tr>\n",
       "      <th>235</th>\n",
       "      <td>-0.756210</td>\n",
       "      <td>2.163185</td>\n",
       "      <td>0.049922</td>\n",
       "      <td>-1.122073</td>\n",
       "      <td>0.266525</td>\n",
       "      <td>-1.499190</td>\n",
       "      <td>-0.943072</td>\n",
       "    </tr>\n",
       "    <tr>\n",
       "      <th>29733</th>\n",
       "      <td>1.948462</td>\n",
       "      <td>0.549464</td>\n",
       "      <td>-0.433281</td>\n",
       "      <td>0.217179</td>\n",
       "      <td>1.870028</td>\n",
       "      <td>-0.659649</td>\n",
       "      <td>2.509688</td>\n",
       "    </tr>\n",
       "  </tbody>\n",
       "</table>\n",
       "<p>24435 rows × 7 columns</p>\n",
       "</div>"
      ],
      "text/plain": [
       "       person_age  person_income  person_emp_length  loan_amnt  loan_int_rate  \\\n",
       "6249    -0.438014      -0.332166           1.016328  -0.413057       0.350920   \n",
       "20127    0.198380      -0.508308          -0.191679   0.059620      -0.006135   \n",
       "20796    0.357478      -0.423907          -1.158085  -0.728175      -0.450831   \n",
       "12524   -0.915309       0.291672          -0.433281  -0.208230       0.146425   \n",
       "30998    1.471167      -0.258773           3.915544   0.059620       0.227574   \n",
       "...           ...            ...                ...        ...            ...   \n",
       "32511    4.175839       0.581573           1.499530   0.059620       0.720959   \n",
       "5192    -0.756210      -0.405485           0.533125   1.162534      -1.424618   \n",
       "12172   -0.756210       0.144887           0.049922   2.576627      -0.006135   \n",
       "235     -0.756210       2.163185           0.049922  -1.122073       0.266525   \n",
       "29733    1.948462       0.549464          -0.433281   0.217179       1.870028   \n",
       "\n",
       "       loan_percent_income  cb_person_cred_hist_length  \n",
       "6249             -0.193238                   -0.943072  \n",
       "20127             0.832867                    0.536682  \n",
       "20796            -0.473085                    0.783308  \n",
       "12524            -0.659649                   -0.696446  \n",
       "30998             0.179891                    2.016437  \n",
       "...                    ...                         ...  \n",
       "32511            -0.659649                    3.496191  \n",
       "5192              2.045537                   -0.943072  \n",
       "12172             1.672408                   -0.943072  \n",
       "235              -1.499190                   -0.943072  \n",
       "29733            -0.659649                    2.509688  \n",
       "\n",
       "[24435 rows x 7 columns]"
      ]
     },
     "execution_count": 152,
     "metadata": {},
     "output_type": "execute_result"
    }
   ],
   "source": [
    "X_train_num"
   ]
  },
  {
   "cell_type": "code",
   "execution_count": 153,
   "id": "f006f9e2",
   "metadata": {},
   "outputs": [],
   "source": [
    "X_test_num=pd.DataFrame(scaler.transform(X_test_num),columns=X_test_num.columns,index=X_test_num.index)"
   ]
  },
  {
   "cell_type": "code",
   "execution_count": 154,
   "id": "ca4b1254",
   "metadata": {},
   "outputs": [
    {
     "data": {
      "text/html": [
       "<div>\n",
       "<style scoped>\n",
       "    .dataframe tbody tr th:only-of-type {\n",
       "        vertical-align: middle;\n",
       "    }\n",
       "\n",
       "    .dataframe tbody tr th {\n",
       "        vertical-align: top;\n",
       "    }\n",
       "\n",
       "    .dataframe thead th {\n",
       "        text-align: right;\n",
       "    }\n",
       "</style>\n",
       "<table border=\"1\" class=\"dataframe\">\n",
       "  <thead>\n",
       "    <tr style=\"text-align: right;\">\n",
       "      <th></th>\n",
       "      <th>person_age</th>\n",
       "      <th>person_income</th>\n",
       "      <th>person_emp_length</th>\n",
       "      <th>loan_amnt</th>\n",
       "      <th>loan_int_rate</th>\n",
       "      <th>loan_percent_income</th>\n",
       "      <th>cb_person_cred_hist_length</th>\n",
       "    </tr>\n",
       "  </thead>\n",
       "  <tbody>\n",
       "    <tr>\n",
       "      <th>29088</th>\n",
       "      <td>-0.119817</td>\n",
       "      <td>-0.334001</td>\n",
       "      <td>-0.916484</td>\n",
       "      <td>-0.334278</td>\n",
       "      <td>0.798862</td>\n",
       "      <td>-0.099955</td>\n",
       "      <td>0.043431</td>\n",
       "    </tr>\n",
       "    <tr>\n",
       "      <th>24708</th>\n",
       "      <td>0.993872</td>\n",
       "      <td>0.126538</td>\n",
       "      <td>-1.158085</td>\n",
       "      <td>0.059620</td>\n",
       "      <td>0.032816</td>\n",
       "      <td>-0.286520</td>\n",
       "      <td>1.029934</td>\n",
       "    </tr>\n",
       "    <tr>\n",
       "      <th>22316</th>\n",
       "      <td>0.675675</td>\n",
       "      <td>-0.222077</td>\n",
       "      <td>2.707537</td>\n",
       "      <td>0.059620</td>\n",
       "      <td>-1.061071</td>\n",
       "      <td>0.179891</td>\n",
       "      <td>0.290056</td>\n",
       "    </tr>\n",
       "    <tr>\n",
       "      <th>15922</th>\n",
       "      <td>-0.756210</td>\n",
       "      <td>-0.515648</td>\n",
       "      <td>-0.433281</td>\n",
       "      <td>1.595822</td>\n",
       "      <td>-1.135728</td>\n",
       "      <td>3.258207</td>\n",
       "      <td>-0.449821</td>\n",
       "    </tr>\n",
       "    <tr>\n",
       "      <th>4987</th>\n",
       "      <td>-0.597112</td>\n",
       "      <td>-0.423980</td>\n",
       "      <td>0.049922</td>\n",
       "      <td>-0.728175</td>\n",
       "      <td>-1.255829</td>\n",
       "      <td>-0.473085</td>\n",
       "      <td>-0.449821</td>\n",
       "    </tr>\n",
       "    <tr>\n",
       "      <th>...</th>\n",
       "      <td>...</td>\n",
       "      <td>...</td>\n",
       "      <td>...</td>\n",
       "      <td>...</td>\n",
       "      <td>...</td>\n",
       "      <td>...</td>\n",
       "      <td>...</td>\n",
       "    </tr>\n",
       "    <tr>\n",
       "      <th>24462</th>\n",
       "      <td>0.039281</td>\n",
       "      <td>-0.313891</td>\n",
       "      <td>1.741132</td>\n",
       "      <td>0.059620</td>\n",
       "      <td>-0.207384</td>\n",
       "      <td>0.273174</td>\n",
       "      <td>0.783308</td>\n",
       "    </tr>\n",
       "    <tr>\n",
       "      <th>19822</th>\n",
       "      <td>0.039281</td>\n",
       "      <td>-0.640415</td>\n",
       "      <td>-0.433281</td>\n",
       "      <td>-0.948758</td>\n",
       "      <td>-1.499275</td>\n",
       "      <td>-0.473085</td>\n",
       "      <td>0.290056</td>\n",
       "    </tr>\n",
       "    <tr>\n",
       "      <th>22202</th>\n",
       "      <td>0.675675</td>\n",
       "      <td>-0.240425</td>\n",
       "      <td>-0.916484</td>\n",
       "      <td>-0.444569</td>\n",
       "      <td>0.594367</td>\n",
       "      <td>-0.379802</td>\n",
       "      <td>0.290056</td>\n",
       "    </tr>\n",
       "    <tr>\n",
       "      <th>17254</th>\n",
       "      <td>-0.597112</td>\n",
       "      <td>0.805421</td>\n",
       "      <td>0.533125</td>\n",
       "      <td>0.374738</td>\n",
       "      <td>-0.671556</td>\n",
       "      <td>-0.566367</td>\n",
       "      <td>-0.943072</td>\n",
       "    </tr>\n",
       "    <tr>\n",
       "      <th>20354</th>\n",
       "      <td>0.675675</td>\n",
       "      <td>-0.478951</td>\n",
       "      <td>2.707537</td>\n",
       "      <td>1.004975</td>\n",
       "      <td>-1.629114</td>\n",
       "      <td>2.138820</td>\n",
       "      <td>1.029934</td>\n",
       "    </tr>\n",
       "  </tbody>\n",
       "</table>\n",
       "<p>8146 rows × 7 columns</p>\n",
       "</div>"
      ],
      "text/plain": [
       "       person_age  person_income  person_emp_length  loan_amnt  loan_int_rate  \\\n",
       "29088   -0.119817      -0.334001          -0.916484  -0.334278       0.798862   \n",
       "24708    0.993872       0.126538          -1.158085   0.059620       0.032816   \n",
       "22316    0.675675      -0.222077           2.707537   0.059620      -1.061071   \n",
       "15922   -0.756210      -0.515648          -0.433281   1.595822      -1.135728   \n",
       "4987    -0.597112      -0.423980           0.049922  -0.728175      -1.255829   \n",
       "...           ...            ...                ...        ...            ...   \n",
       "24462    0.039281      -0.313891           1.741132   0.059620      -0.207384   \n",
       "19822    0.039281      -0.640415          -0.433281  -0.948758      -1.499275   \n",
       "22202    0.675675      -0.240425          -0.916484  -0.444569       0.594367   \n",
       "17254   -0.597112       0.805421           0.533125   0.374738      -0.671556   \n",
       "20354    0.675675      -0.478951           2.707537   1.004975      -1.629114   \n",
       "\n",
       "       loan_percent_income  cb_person_cred_hist_length  \n",
       "29088            -0.099955                    0.043431  \n",
       "24708            -0.286520                    1.029934  \n",
       "22316             0.179891                    0.290056  \n",
       "15922             3.258207                   -0.449821  \n",
       "4987             -0.473085                   -0.449821  \n",
       "...                    ...                         ...  \n",
       "24462             0.273174                    0.783308  \n",
       "19822            -0.473085                    0.290056  \n",
       "22202            -0.379802                    0.290056  \n",
       "17254            -0.566367                   -0.943072  \n",
       "20354             2.138820                    1.029934  \n",
       "\n",
       "[8146 rows x 7 columns]"
      ]
     },
     "execution_count": 154,
     "metadata": {},
     "output_type": "execute_result"
    }
   ],
   "source": [
    "X_test_num"
   ]
  },
  {
   "cell_type": "code",
   "execution_count": 155,
   "id": "8f740d0a",
   "metadata": {},
   "outputs": [],
   "source": [
    "X_train_cat=X_train.select_dtypes(include=[\"object\"])"
   ]
  },
  {
   "cell_type": "code",
   "execution_count": 156,
   "id": "9fb1a884",
   "metadata": {},
   "outputs": [],
   "source": [
    "X_test_cat=X_test.select_dtypes(include=[\"object\"])"
   ]
  },
  {
   "cell_type": "code",
   "execution_count": 157,
   "id": "dd1d63f6",
   "metadata": {},
   "outputs": [
    {
     "data": {
      "text/plain": [
       "Index(['person_home_ownership', 'loan_intent', 'loan_grade',\n",
       "       'cb_person_default_on_file'],\n",
       "      dtype='object')"
      ]
     },
     "execution_count": 157,
     "metadata": {},
     "output_type": "execute_result"
    }
   ],
   "source": [
    "X_train_cat.columns"
   ]
  },
  {
   "cell_type": "code",
   "execution_count": 158,
   "id": "1597848c",
   "metadata": {},
   "outputs": [],
   "source": [
    "X_train_cat_ohe=X_train_cat[['person_home_ownership', 'loan_intent','cb_person_default_on_file']]"
   ]
  },
  {
   "cell_type": "code",
   "execution_count": 159,
   "id": "643d1970",
   "metadata": {},
   "outputs": [],
   "source": [
    "X_test_cat_ohe=X_test_cat[['person_home_ownership', 'loan_intent','cb_person_default_on_file']]"
   ]
  },
  {
   "cell_type": "code",
   "execution_count": 160,
   "id": "bc93c052",
   "metadata": {},
   "outputs": [],
   "source": [
    "from sklearn.preprocessing import OneHotEncoder"
   ]
  },
  {
   "cell_type": "code",
   "execution_count": 161,
   "id": "015d88f7",
   "metadata": {},
   "outputs": [],
   "source": [
    "encoder=OneHotEncoder(drop=\"first\",sparse=False)"
   ]
  },
  {
   "cell_type": "code",
   "execution_count": 162,
   "id": "903ba411",
   "metadata": {},
   "outputs": [],
   "source": [
    "X_train_cat_ohe=pd.DataFrame(encoder.fit_transform(X_train_cat_ohe),\n",
    "                             columns=encoder.get_feature_names_out(X_train_cat_ohe.columns),\n",
    "                            index=X_train_cat_ohe.index)"
   ]
  },
  {
   "cell_type": "code",
   "execution_count": 163,
   "id": "200584d6",
   "metadata": {},
   "outputs": [
    {
     "data": {
      "text/html": [
       "<div>\n",
       "<style scoped>\n",
       "    .dataframe tbody tr th:only-of-type {\n",
       "        vertical-align: middle;\n",
       "    }\n",
       "\n",
       "    .dataframe tbody tr th {\n",
       "        vertical-align: top;\n",
       "    }\n",
       "\n",
       "    .dataframe thead th {\n",
       "        text-align: right;\n",
       "    }\n",
       "</style>\n",
       "<table border=\"1\" class=\"dataframe\">\n",
       "  <thead>\n",
       "    <tr style=\"text-align: right;\">\n",
       "      <th></th>\n",
       "      <th>person_home_ownership_OTHER</th>\n",
       "      <th>person_home_ownership_OWN</th>\n",
       "      <th>person_home_ownership_RENT</th>\n",
       "      <th>loan_intent_EDUCATION</th>\n",
       "      <th>loan_intent_HOMEIMPROVEMENT</th>\n",
       "      <th>loan_intent_MEDICAL</th>\n",
       "      <th>loan_intent_PERSONAL</th>\n",
       "      <th>loan_intent_VENTURE</th>\n",
       "      <th>cb_person_default_on_file_Y</th>\n",
       "    </tr>\n",
       "  </thead>\n",
       "  <tbody>\n",
       "    <tr>\n",
       "      <th>6249</th>\n",
       "      <td>0.0</td>\n",
       "      <td>0.0</td>\n",
       "      <td>0.0</td>\n",
       "      <td>1.0</td>\n",
       "      <td>0.0</td>\n",
       "      <td>0.0</td>\n",
       "      <td>0.0</td>\n",
       "      <td>0.0</td>\n",
       "      <td>1.0</td>\n",
       "    </tr>\n",
       "    <tr>\n",
       "      <th>20127</th>\n",
       "      <td>0.0</td>\n",
       "      <td>1.0</td>\n",
       "      <td>0.0</td>\n",
       "      <td>0.0</td>\n",
       "      <td>0.0</td>\n",
       "      <td>0.0</td>\n",
       "      <td>0.0</td>\n",
       "      <td>1.0</td>\n",
       "      <td>0.0</td>\n",
       "    </tr>\n",
       "    <tr>\n",
       "      <th>20796</th>\n",
       "      <td>0.0</td>\n",
       "      <td>0.0</td>\n",
       "      <td>1.0</td>\n",
       "      <td>0.0</td>\n",
       "      <td>0.0</td>\n",
       "      <td>0.0</td>\n",
       "      <td>0.0</td>\n",
       "      <td>1.0</td>\n",
       "      <td>0.0</td>\n",
       "    </tr>\n",
       "    <tr>\n",
       "      <th>12524</th>\n",
       "      <td>0.0</td>\n",
       "      <td>0.0</td>\n",
       "      <td>0.0</td>\n",
       "      <td>0.0</td>\n",
       "      <td>0.0</td>\n",
       "      <td>0.0</td>\n",
       "      <td>1.0</td>\n",
       "      <td>0.0</td>\n",
       "      <td>0.0</td>\n",
       "    </tr>\n",
       "    <tr>\n",
       "      <th>30998</th>\n",
       "      <td>0.0</td>\n",
       "      <td>0.0</td>\n",
       "      <td>1.0</td>\n",
       "      <td>0.0</td>\n",
       "      <td>1.0</td>\n",
       "      <td>0.0</td>\n",
       "      <td>0.0</td>\n",
       "      <td>0.0</td>\n",
       "      <td>0.0</td>\n",
       "    </tr>\n",
       "    <tr>\n",
       "      <th>...</th>\n",
       "      <td>...</td>\n",
       "      <td>...</td>\n",
       "      <td>...</td>\n",
       "      <td>...</td>\n",
       "      <td>...</td>\n",
       "      <td>...</td>\n",
       "      <td>...</td>\n",
       "      <td>...</td>\n",
       "      <td>...</td>\n",
       "    </tr>\n",
       "    <tr>\n",
       "      <th>32511</th>\n",
       "      <td>0.0</td>\n",
       "      <td>0.0</td>\n",
       "      <td>0.0</td>\n",
       "      <td>0.0</td>\n",
       "      <td>0.0</td>\n",
       "      <td>0.0</td>\n",
       "      <td>1.0</td>\n",
       "      <td>0.0</td>\n",
       "      <td>1.0</td>\n",
       "    </tr>\n",
       "    <tr>\n",
       "      <th>5192</th>\n",
       "      <td>0.0</td>\n",
       "      <td>1.0</td>\n",
       "      <td>0.0</td>\n",
       "      <td>0.0</td>\n",
       "      <td>0.0</td>\n",
       "      <td>1.0</td>\n",
       "      <td>0.0</td>\n",
       "      <td>0.0</td>\n",
       "      <td>0.0</td>\n",
       "    </tr>\n",
       "    <tr>\n",
       "      <th>12172</th>\n",
       "      <td>0.0</td>\n",
       "      <td>0.0</td>\n",
       "      <td>0.0</td>\n",
       "      <td>0.0</td>\n",
       "      <td>0.0</td>\n",
       "      <td>0.0</td>\n",
       "      <td>0.0</td>\n",
       "      <td>0.0</td>\n",
       "      <td>0.0</td>\n",
       "    </tr>\n",
       "    <tr>\n",
       "      <th>235</th>\n",
       "      <td>0.0</td>\n",
       "      <td>1.0</td>\n",
       "      <td>0.0</td>\n",
       "      <td>1.0</td>\n",
       "      <td>0.0</td>\n",
       "      <td>0.0</td>\n",
       "      <td>0.0</td>\n",
       "      <td>0.0</td>\n",
       "      <td>0.0</td>\n",
       "    </tr>\n",
       "    <tr>\n",
       "      <th>29733</th>\n",
       "      <td>0.0</td>\n",
       "      <td>0.0</td>\n",
       "      <td>1.0</td>\n",
       "      <td>0.0</td>\n",
       "      <td>0.0</td>\n",
       "      <td>1.0</td>\n",
       "      <td>0.0</td>\n",
       "      <td>0.0</td>\n",
       "      <td>0.0</td>\n",
       "    </tr>\n",
       "  </tbody>\n",
       "</table>\n",
       "<p>24435 rows × 9 columns</p>\n",
       "</div>"
      ],
      "text/plain": [
       "       person_home_ownership_OTHER  person_home_ownership_OWN  \\\n",
       "6249                           0.0                        0.0   \n",
       "20127                          0.0                        1.0   \n",
       "20796                          0.0                        0.0   \n",
       "12524                          0.0                        0.0   \n",
       "30998                          0.0                        0.0   \n",
       "...                            ...                        ...   \n",
       "32511                          0.0                        0.0   \n",
       "5192                           0.0                        1.0   \n",
       "12172                          0.0                        0.0   \n",
       "235                            0.0                        1.0   \n",
       "29733                          0.0                        0.0   \n",
       "\n",
       "       person_home_ownership_RENT  loan_intent_EDUCATION  \\\n",
       "6249                          0.0                    1.0   \n",
       "20127                         0.0                    0.0   \n",
       "20796                         1.0                    0.0   \n",
       "12524                         0.0                    0.0   \n",
       "30998                         1.0                    0.0   \n",
       "...                           ...                    ...   \n",
       "32511                         0.0                    0.0   \n",
       "5192                          0.0                    0.0   \n",
       "12172                         0.0                    0.0   \n",
       "235                           0.0                    1.0   \n",
       "29733                         1.0                    0.0   \n",
       "\n",
       "       loan_intent_HOMEIMPROVEMENT  loan_intent_MEDICAL  loan_intent_PERSONAL  \\\n",
       "6249                           0.0                  0.0                   0.0   \n",
       "20127                          0.0                  0.0                   0.0   \n",
       "20796                          0.0                  0.0                   0.0   \n",
       "12524                          0.0                  0.0                   1.0   \n",
       "30998                          1.0                  0.0                   0.0   \n",
       "...                            ...                  ...                   ...   \n",
       "32511                          0.0                  0.0                   1.0   \n",
       "5192                           0.0                  1.0                   0.0   \n",
       "12172                          0.0                  0.0                   0.0   \n",
       "235                            0.0                  0.0                   0.0   \n",
       "29733                          0.0                  1.0                   0.0   \n",
       "\n",
       "       loan_intent_VENTURE  cb_person_default_on_file_Y  \n",
       "6249                   0.0                          1.0  \n",
       "20127                  1.0                          0.0  \n",
       "20796                  1.0                          0.0  \n",
       "12524                  0.0                          0.0  \n",
       "30998                  0.0                          0.0  \n",
       "...                    ...                          ...  \n",
       "32511                  0.0                          1.0  \n",
       "5192                   0.0                          0.0  \n",
       "12172                  0.0                          0.0  \n",
       "235                    0.0                          0.0  \n",
       "29733                  0.0                          0.0  \n",
       "\n",
       "[24435 rows x 9 columns]"
      ]
     },
     "execution_count": 163,
     "metadata": {},
     "output_type": "execute_result"
    }
   ],
   "source": [
    "X_train_cat_ohe"
   ]
  },
  {
   "cell_type": "code",
   "execution_count": 164,
   "id": "8f8060a1",
   "metadata": {},
   "outputs": [],
   "source": [
    "X_test_cat_ohe=pd.DataFrame(encoder.transform(X_test_cat_ohe),\n",
    "                             columns=encoder.get_feature_names_out(X_test_cat_ohe.columns),\n",
    "                            index=X_test_cat_ohe.index)"
   ]
  },
  {
   "cell_type": "code",
   "execution_count": 165,
   "id": "0a5758cc",
   "metadata": {},
   "outputs": [
    {
     "data": {
      "text/plain": [
       "A    8092\n",
       "B    7869\n",
       "C    4816\n",
       "D    2696\n",
       "E     732\n",
       "F     185\n",
       "G      45\n",
       "Name: loan_grade, dtype: int64"
      ]
     },
     "execution_count": 165,
     "metadata": {},
     "output_type": "execute_result"
    }
   ],
   "source": [
    "X_train_cat[\"loan_grade\"].value_counts()"
   ]
  },
  {
   "cell_type": "code",
   "execution_count": 166,
   "id": "d152b701",
   "metadata": {},
   "outputs": [],
   "source": [
    "X_train_cat_le=X_train_cat[\"loan_grade\"]\n",
    "X_test_cat_le=X_test_cat[\"loan_grade\"]"
   ]
  },
  {
   "cell_type": "code",
   "execution_count": 167,
   "id": "91fb2ad3",
   "metadata": {},
   "outputs": [],
   "source": [
    "dic={\"G\":1,\"F\":2,\"E\":3,\"D\":4,\"C\":5,\"B\":6,\"A\":7}\n",
    "\n",
    "X_train_cat_le = X_train_cat_le.apply(lambda x :dic[x])"
   ]
  },
  {
   "cell_type": "code",
   "execution_count": 168,
   "id": "e4e7c1f8",
   "metadata": {},
   "outputs": [],
   "source": [
    "X_test_cat_le=X_test_cat_le.apply(lambda x:dic[x])"
   ]
  },
  {
   "cell_type": "code",
   "execution_count": 169,
   "id": "5a4a6bae",
   "metadata": {},
   "outputs": [],
   "source": [
    "X_train_cat=pd.concat([X_train_cat_ohe,X_train_cat_le],axis=1)"
   ]
  },
  {
   "cell_type": "code",
   "execution_count": 170,
   "id": "9dfa42ac",
   "metadata": {},
   "outputs": [
    {
     "data": {
      "text/html": [
       "<div>\n",
       "<style scoped>\n",
       "    .dataframe tbody tr th:only-of-type {\n",
       "        vertical-align: middle;\n",
       "    }\n",
       "\n",
       "    .dataframe tbody tr th {\n",
       "        vertical-align: top;\n",
       "    }\n",
       "\n",
       "    .dataframe thead th {\n",
       "        text-align: right;\n",
       "    }\n",
       "</style>\n",
       "<table border=\"1\" class=\"dataframe\">\n",
       "  <thead>\n",
       "    <tr style=\"text-align: right;\">\n",
       "      <th></th>\n",
       "      <th>person_home_ownership_OTHER</th>\n",
       "      <th>person_home_ownership_OWN</th>\n",
       "      <th>person_home_ownership_RENT</th>\n",
       "      <th>loan_intent_EDUCATION</th>\n",
       "      <th>loan_intent_HOMEIMPROVEMENT</th>\n",
       "      <th>loan_intent_MEDICAL</th>\n",
       "      <th>loan_intent_PERSONAL</th>\n",
       "      <th>loan_intent_VENTURE</th>\n",
       "      <th>cb_person_default_on_file_Y</th>\n",
       "      <th>loan_grade</th>\n",
       "    </tr>\n",
       "  </thead>\n",
       "  <tbody>\n",
       "    <tr>\n",
       "      <th>6249</th>\n",
       "      <td>0.0</td>\n",
       "      <td>0.0</td>\n",
       "      <td>0.0</td>\n",
       "      <td>1.0</td>\n",
       "      <td>0.0</td>\n",
       "      <td>0.0</td>\n",
       "      <td>0.0</td>\n",
       "      <td>0.0</td>\n",
       "      <td>1.0</td>\n",
       "      <td>5</td>\n",
       "    </tr>\n",
       "    <tr>\n",
       "      <th>20127</th>\n",
       "      <td>0.0</td>\n",
       "      <td>1.0</td>\n",
       "      <td>0.0</td>\n",
       "      <td>0.0</td>\n",
       "      <td>0.0</td>\n",
       "      <td>0.0</td>\n",
       "      <td>0.0</td>\n",
       "      <td>1.0</td>\n",
       "      <td>0.0</td>\n",
       "      <td>6</td>\n",
       "    </tr>\n",
       "    <tr>\n",
       "      <th>20796</th>\n",
       "      <td>0.0</td>\n",
       "      <td>0.0</td>\n",
       "      <td>1.0</td>\n",
       "      <td>0.0</td>\n",
       "      <td>0.0</td>\n",
       "      <td>0.0</td>\n",
       "      <td>0.0</td>\n",
       "      <td>1.0</td>\n",
       "      <td>0.0</td>\n",
       "      <td>6</td>\n",
       "    </tr>\n",
       "    <tr>\n",
       "      <th>12524</th>\n",
       "      <td>0.0</td>\n",
       "      <td>0.0</td>\n",
       "      <td>0.0</td>\n",
       "      <td>0.0</td>\n",
       "      <td>0.0</td>\n",
       "      <td>0.0</td>\n",
       "      <td>1.0</td>\n",
       "      <td>0.0</td>\n",
       "      <td>0.0</td>\n",
       "      <td>6</td>\n",
       "    </tr>\n",
       "    <tr>\n",
       "      <th>30998</th>\n",
       "      <td>0.0</td>\n",
       "      <td>0.0</td>\n",
       "      <td>1.0</td>\n",
       "      <td>0.0</td>\n",
       "      <td>1.0</td>\n",
       "      <td>0.0</td>\n",
       "      <td>0.0</td>\n",
       "      <td>0.0</td>\n",
       "      <td>0.0</td>\n",
       "      <td>6</td>\n",
       "    </tr>\n",
       "    <tr>\n",
       "      <th>...</th>\n",
       "      <td>...</td>\n",
       "      <td>...</td>\n",
       "      <td>...</td>\n",
       "      <td>...</td>\n",
       "      <td>...</td>\n",
       "      <td>...</td>\n",
       "      <td>...</td>\n",
       "      <td>...</td>\n",
       "      <td>...</td>\n",
       "      <td>...</td>\n",
       "    </tr>\n",
       "    <tr>\n",
       "      <th>32511</th>\n",
       "      <td>0.0</td>\n",
       "      <td>0.0</td>\n",
       "      <td>0.0</td>\n",
       "      <td>0.0</td>\n",
       "      <td>0.0</td>\n",
       "      <td>0.0</td>\n",
       "      <td>1.0</td>\n",
       "      <td>0.0</td>\n",
       "      <td>1.0</td>\n",
       "      <td>5</td>\n",
       "    </tr>\n",
       "    <tr>\n",
       "      <th>5192</th>\n",
       "      <td>0.0</td>\n",
       "      <td>1.0</td>\n",
       "      <td>0.0</td>\n",
       "      <td>0.0</td>\n",
       "      <td>0.0</td>\n",
       "      <td>1.0</td>\n",
       "      <td>0.0</td>\n",
       "      <td>0.0</td>\n",
       "      <td>0.0</td>\n",
       "      <td>7</td>\n",
       "    </tr>\n",
       "    <tr>\n",
       "      <th>12172</th>\n",
       "      <td>0.0</td>\n",
       "      <td>0.0</td>\n",
       "      <td>0.0</td>\n",
       "      <td>0.0</td>\n",
       "      <td>0.0</td>\n",
       "      <td>0.0</td>\n",
       "      <td>0.0</td>\n",
       "      <td>0.0</td>\n",
       "      <td>0.0</td>\n",
       "      <td>4</td>\n",
       "    </tr>\n",
       "    <tr>\n",
       "      <th>235</th>\n",
       "      <td>0.0</td>\n",
       "      <td>1.0</td>\n",
       "      <td>0.0</td>\n",
       "      <td>1.0</td>\n",
       "      <td>0.0</td>\n",
       "      <td>0.0</td>\n",
       "      <td>0.0</td>\n",
       "      <td>0.0</td>\n",
       "      <td>0.0</td>\n",
       "      <td>6</td>\n",
       "    </tr>\n",
       "    <tr>\n",
       "      <th>29733</th>\n",
       "      <td>0.0</td>\n",
       "      <td>0.0</td>\n",
       "      <td>1.0</td>\n",
       "      <td>0.0</td>\n",
       "      <td>0.0</td>\n",
       "      <td>1.0</td>\n",
       "      <td>0.0</td>\n",
       "      <td>0.0</td>\n",
       "      <td>0.0</td>\n",
       "      <td>4</td>\n",
       "    </tr>\n",
       "  </tbody>\n",
       "</table>\n",
       "<p>24435 rows × 10 columns</p>\n",
       "</div>"
      ],
      "text/plain": [
       "       person_home_ownership_OTHER  person_home_ownership_OWN  \\\n",
       "6249                           0.0                        0.0   \n",
       "20127                          0.0                        1.0   \n",
       "20796                          0.0                        0.0   \n",
       "12524                          0.0                        0.0   \n",
       "30998                          0.0                        0.0   \n",
       "...                            ...                        ...   \n",
       "32511                          0.0                        0.0   \n",
       "5192                           0.0                        1.0   \n",
       "12172                          0.0                        0.0   \n",
       "235                            0.0                        1.0   \n",
       "29733                          0.0                        0.0   \n",
       "\n",
       "       person_home_ownership_RENT  loan_intent_EDUCATION  \\\n",
       "6249                          0.0                    1.0   \n",
       "20127                         0.0                    0.0   \n",
       "20796                         1.0                    0.0   \n",
       "12524                         0.0                    0.0   \n",
       "30998                         1.0                    0.0   \n",
       "...                           ...                    ...   \n",
       "32511                         0.0                    0.0   \n",
       "5192                          0.0                    0.0   \n",
       "12172                         0.0                    0.0   \n",
       "235                           0.0                    1.0   \n",
       "29733                         1.0                    0.0   \n",
       "\n",
       "       loan_intent_HOMEIMPROVEMENT  loan_intent_MEDICAL  loan_intent_PERSONAL  \\\n",
       "6249                           0.0                  0.0                   0.0   \n",
       "20127                          0.0                  0.0                   0.0   \n",
       "20796                          0.0                  0.0                   0.0   \n",
       "12524                          0.0                  0.0                   1.0   \n",
       "30998                          1.0                  0.0                   0.0   \n",
       "...                            ...                  ...                   ...   \n",
       "32511                          0.0                  0.0                   1.0   \n",
       "5192                           0.0                  1.0                   0.0   \n",
       "12172                          0.0                  0.0                   0.0   \n",
       "235                            0.0                  0.0                   0.0   \n",
       "29733                          0.0                  1.0                   0.0   \n",
       "\n",
       "       loan_intent_VENTURE  cb_person_default_on_file_Y  loan_grade  \n",
       "6249                   0.0                          1.0           5  \n",
       "20127                  1.0                          0.0           6  \n",
       "20796                  1.0                          0.0           6  \n",
       "12524                  0.0                          0.0           6  \n",
       "30998                  0.0                          0.0           6  \n",
       "...                    ...                          ...         ...  \n",
       "32511                  0.0                          1.0           5  \n",
       "5192                   0.0                          0.0           7  \n",
       "12172                  0.0                          0.0           4  \n",
       "235                    0.0                          0.0           6  \n",
       "29733                  0.0                          0.0           4  \n",
       "\n",
       "[24435 rows x 10 columns]"
      ]
     },
     "execution_count": 170,
     "metadata": {},
     "output_type": "execute_result"
    }
   ],
   "source": [
    "X_train_cat"
   ]
  },
  {
   "cell_type": "code",
   "execution_count": 171,
   "id": "2f42ffb1",
   "metadata": {},
   "outputs": [],
   "source": [
    "X_test_cat=pd.concat([X_test_cat_ohe,X_test_cat_le],axis=1)"
   ]
  },
  {
   "cell_type": "code",
   "execution_count": 172,
   "id": "d4514959",
   "metadata": {},
   "outputs": [],
   "source": [
    "X_train_transformed=pd.concat([X_train_cat,X_train_num],axis=1)"
   ]
  },
  {
   "cell_type": "code",
   "execution_count": 173,
   "id": "6825c64e",
   "metadata": {},
   "outputs": [],
   "source": [
    "X_test_transformed=pd.concat([X_test_cat,X_test_num],axis=1)"
   ]
  },
  {
   "cell_type": "code",
   "execution_count": null,
   "id": "46842b71",
   "metadata": {},
   "outputs": [],
   "source": []
  },
  {
   "cell_type": "code",
   "execution_count": null,
   "id": "04e26628",
   "metadata": {},
   "outputs": [],
   "source": []
  },
  {
   "cell_type": "markdown",
   "id": "db2f0278",
   "metadata": {},
   "source": [
    "# Logistic Regression"
   ]
  },
  {
   "cell_type": "code",
   "execution_count": 177,
   "id": "7ad2abd5",
   "metadata": {},
   "outputs": [],
   "source": [
    "from sklearn.metrics import accuracy_score"
   ]
  },
  {
   "cell_type": "code",
   "execution_count": 174,
   "id": "9964cd1b",
   "metadata": {},
   "outputs": [
    {
     "data": {
      "text/plain": [
       "LogisticRegression()"
      ]
     },
     "execution_count": 174,
     "metadata": {},
     "output_type": "execute_result"
    }
   ],
   "source": [
    "from sklearn.linear_model import LogisticRegression\n",
    "classifier = LogisticRegression()\n",
    "classifier.fit(X_train_transformed, y_train)"
   ]
  },
  {
   "cell_type": "code",
   "execution_count": 175,
   "id": "6a44c607",
   "metadata": {},
   "outputs": [],
   "source": [
    "y_test_pred = classifier.predict(X_test_transformed)"
   ]
  },
  {
   "cell_type": "code",
   "execution_count": 178,
   "id": "cfbdafbf",
   "metadata": {},
   "outputs": [
    {
     "data": {
      "text/plain": [
       "0.8494966854898109"
      ]
     },
     "execution_count": 178,
     "metadata": {},
     "output_type": "execute_result"
    }
   ],
   "source": [
    "accuracy_score(y_test, y_test_pred)"
   ]
  },
  {
   "cell_type": "markdown",
   "id": "1fd3c9d3",
   "metadata": {},
   "source": []
  },
  {
   "cell_type": "code",
   "execution_count": null,
   "id": "cffb2e63",
   "metadata": {},
   "outputs": [],
   "source": []
  },
  {
   "cell_type": "markdown",
   "id": "ef1093c7",
   "metadata": {},
   "source": [
    "# KNN"
   ]
  },
  {
   "cell_type": "code",
   "execution_count": 179,
   "id": "ae9e0b9a",
   "metadata": {},
   "outputs": [
    {
     "name": "stderr",
     "output_type": "stream",
     "text": [
      "C:\\Users\\Suri\\anaconda3\\lib\\site-packages\\sklearn\\neighbors\\_classification.py:228: FutureWarning: Unlike other reduction functions (e.g. `skew`, `kurtosis`), the default behavior of `mode` typically preserves the axis it acts along. In SciPy 1.11.0, this behavior will change: the default value of `keepdims` will become False, the `axis` over which the statistic is taken will be eliminated, and the value None will no longer be accepted. Set `keepdims` to True or False to avoid this warning.\n",
      "  mode, _ = stats.mode(_y[neigh_ind, k], axis=1)\n"
     ]
    },
    {
     "data": {
      "text/plain": [
       "0.8889025288485146"
      ]
     },
     "execution_count": 179,
     "metadata": {},
     "output_type": "execute_result"
    }
   ],
   "source": [
    "from sklearn.neighbors import KNeighborsClassifier\n",
    "classifier = KNeighborsClassifier()\n",
    "classifier.fit(X_train_transformed, y_train)\n",
    "\n",
    "y_test_pred = classifier.predict(X_test_transformed)\n",
    "accuracy_score(y_test, y_test_pred)"
   ]
  },
  {
   "cell_type": "code",
   "execution_count": null,
   "id": "c9e24edb",
   "metadata": {},
   "outputs": [],
   "source": []
  },
  {
   "cell_type": "markdown",
   "id": "323157f7",
   "metadata": {},
   "source": [
    "# Decision Tree Classifier"
   ]
  },
  {
   "cell_type": "code",
   "execution_count": 181,
   "id": "bfc9b6f0",
   "metadata": {},
   "outputs": [
    {
     "data": {
      "text/plain": [
       "0.8902528848514608"
      ]
     },
     "execution_count": 181,
     "metadata": {},
     "output_type": "execute_result"
    }
   ],
   "source": [
    "from sklearn.tree import DecisionTreeClassifier\n",
    "classifier = DecisionTreeClassifier()\n",
    "classifier.fit(X_train_transformed, y_train)\n",
    "\n",
    "y_test_pred = classifier.predict(X_test_transformed)\n",
    "\n",
    "accuracy_score(y_test, y_test_pred)"
   ]
  },
  {
   "cell_type": "code",
   "execution_count": null,
   "id": "c54d0cd0",
   "metadata": {},
   "outputs": [],
   "source": []
  },
  {
   "cell_type": "markdown",
   "id": "b667d535",
   "metadata": {},
   "source": [
    "# Random Forest Classifier"
   ]
  },
  {
   "cell_type": "code",
   "execution_count": 182,
   "id": "3bc8a4a7",
   "metadata": {},
   "outputs": [
    {
     "data": {
      "text/plain": [
       "0.9330959980358459"
      ]
     },
     "execution_count": 182,
     "metadata": {},
     "output_type": "execute_result"
    }
   ],
   "source": [
    "from sklearn.ensemble import RandomForestClassifier\n",
    "classifier = RandomForestClassifier()\n",
    "classifier.fit(X_train_transformed, y_train)\n",
    "\n",
    "y_test_pred = classifier.predict(X_test_transformed)\n",
    "\n",
    "accuracy_score(y_test, y_test_pred)"
   ]
  },
  {
   "cell_type": "code",
   "execution_count": null,
   "id": "bd16283a",
   "metadata": {},
   "outputs": [],
   "source": []
  },
  {
   "cell_type": "markdown",
   "id": "0f403b64",
   "metadata": {},
   "source": [
    "# Support Vector Machine¶"
   ]
  },
  {
   "cell_type": "code",
   "execution_count": 183,
   "id": "3022311b",
   "metadata": {},
   "outputs": [
    {
     "data": {
      "text/plain": [
       "0.8886570095752516"
      ]
     },
     "execution_count": 183,
     "metadata": {},
     "output_type": "execute_result"
    }
   ],
   "source": [
    "from sklearn.svm import SVC\n",
    "classifier=SVC()\n",
    "classifier.fit(X_train_transformed,y_train)\n",
    "\n",
    "y_test_pred=classifier.predict(X_test_transformed)\n",
    "accuracy_score(y_test, y_test_pred)"
   ]
  },
  {
   "cell_type": "code",
   "execution_count": null,
   "id": "43ecade6",
   "metadata": {},
   "outputs": [],
   "source": []
  }
 ],
 "metadata": {
  "kernelspec": {
   "display_name": "Python 3 (ipykernel)",
   "language": "python",
   "name": "python3"
  },
  "language_info": {
   "codemirror_mode": {
    "name": "ipython",
    "version": 3
   },
   "file_extension": ".py",
   "mimetype": "text/x-python",
   "name": "python",
   "nbconvert_exporter": "python",
   "pygments_lexer": "ipython3",
   "version": "3.9.13"
  }
 },
 "nbformat": 4,
 "nbformat_minor": 5
}
